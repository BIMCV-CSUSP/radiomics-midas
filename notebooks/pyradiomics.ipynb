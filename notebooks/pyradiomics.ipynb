{
 "cells": [
  {
   "cell_type": "code",
   "execution_count": null,
   "metadata": {},
   "outputs": [],
   "source": [
    "import logging\n",
    "import matplotlib.patches as mpatches\n",
    "import matplotlib.pyplot as plt\n",
    "import numpy as np\n",
    "import pandas as pd\n",
    "import pathlib\n",
    "import SimpleITK as sitk\n",
    "\n",
    "from radiomics import featureextractor, imageoperations"
   ]
  },
  {
   "cell_type": "code",
   "execution_count": null,
   "metadata": {},
   "outputs": [],
   "source": [
    "root_dir = pathlib.Path(\"..\").resolve()"
   ]
  },
  {
   "cell_type": "code",
   "execution_count": null,
   "metadata": {},
   "outputs": [],
   "source": [
    "def show_image_and_masks(img_path, mask_path):\n",
    "    if isinstance(img_path, pathlib.Path) or isinstance(img_path, str):\n",
    "        image = sitk.ReadImage(img_path)\n",
    "    else:\n",
    "        image = img_path\n",
    "    if isinstance(mask_path, pathlib.Path) or isinstance(mask_path, str):\n",
    "        mask = sitk.ReadImage(mask_path)\n",
    "    else:\n",
    "        mask = mask_path\n",
    "    image_data = sitk.GetArrayFromImage(image).T\n",
    "    mask_data = sitk.GetArrayFromImage(mask).T\n",
    "\n",
    "    center_slice = image_data.shape[2] // 2\n",
    "    unique_labels = np.unique(mask_data.ravel())\n",
    "\n",
    "    _, axs = plt.subplots(1, 3, figsize=(12, 12))\n",
    "    for i, slice in enumerate(range(center_slice - 1, center_slice + 2)):\n",
    "        axs[i].imshow(image_data[:, :, slice], cmap=\"gray\")\n",
    "        im = axs[i].imshow(\n",
    "            mask_data[:, :, slice],\n",
    "            cmap=\"jet\",\n",
    "            alpha=np.where(mask_data[:, :, slice] == 0, 0, 0.3),\n",
    "        )\n",
    "        axs[i].grid(False)\n",
    "        axs[i].axis(\"off\")\n",
    "    colors = [im.cmap(im.norm(value)) for value in unique_labels]\n",
    "    patches = [\n",
    "        mpatches.Patch(color=colors[i], label=f\"{unique_labels[i]}\")\n",
    "        for i in range(len(unique_labels))\n",
    "    ]\n",
    "    plt.legend(handles=patches, bbox_to_anchor=(1.05, 1), loc=2, borderaxespad=0.0)\n",
    "    plt.tight_layout()\n",
    "    plt.show()\n",
    "\n",
    "\n",
    "def checkMaskVol(image, mask, label):\n",
    "    try:\n",
    "        imageoperations.checkMask(\n",
    "            image, mask, minimumROIDimensions=3, minimumROISize=1000, label=label\n",
    "        )\n",
    "        result = label\n",
    "    except Exception as e:\n",
    "        result = None\n",
    "    return result"
   ]
  },
  {
   "cell_type": "code",
   "execution_count": null,
   "metadata": {},
   "outputs": [],
   "source": [
    "filtered_midas_img_relation = pd.read_csv(\n",
    "    root_dir.joinpath(\"data\", \"filtered_midas900_t2w.csv\"), sep=\",\"\n",
    ")\n",
    "filtered_midas_img_relation[\"Subject_MIDS\"] = filtered_midas_img_relation[\"Image\"].map(\n",
    "    lambda x: x.split(\"/\")[8]\n",
    ")\n",
    "filtered_midas_img_relation[\"Session_MIDS\"] = filtered_midas_img_relation[\"Image\"].map(\n",
    "    lambda x: x.split(\"/\")[9]\n",
    ")\n",
    "filtered_midas_img_relation[\"Subject_XNAT\"] = filtered_midas_img_relation[\n",
    "    \"Subject_MIDS\"\n",
    "].map(lambda x: f\"ceibcs_S{int(x.split('sub-S')[1])}\")\n",
    "filtered_midas_img_relation[\"Session_XNAT\"] = filtered_midas_img_relation[\n",
    "    \"Session_MIDS\"\n",
    "].map(lambda x: f\"ceibcs_E{int(x.split('ses-E')[1])}\")\n",
    "filtered_midas_img_relation"
   ]
  },
  {
   "cell_type": "code",
   "execution_count": null,
   "metadata": {},
   "outputs": [],
   "source": [
    "index = 1\n",
    "show_image_and_masks(\n",
    "    filtered_midas_img_relation.iloc[index][\"Image\"],\n",
    "    filtered_midas_img_relation.iloc[index][\"Mask\"],\n",
    ")"
   ]
  },
  {
   "cell_type": "code",
   "execution_count": null,
   "metadata": {},
   "outputs": [],
   "source": [
    "%%writefile ../src/Params.yaml\n",
    "setting:\n",
    "  binWidth: 25\n",
    "  correctMask: True\n",
    "  interpolator: 'sitkBSpline' # This is an enumerated value, here None is not allowed\n",
    "  normalize: True\n",
    "  resampledPixelSpacing: # This disables resampling, as it is interpreted as None, to enable it, specify spacing in x, y, z as [x, y , z]\n",
    "  weightingNorm: # If no value is specified, it is interpreted as None\n",
    "\n",
    "# Image types to use: \"Original\" for unfiltered image, for possible filters, see documentation.\n",
    "imageType:\n",
    "  Original: {} # for dictionaries / mappings, None values are not allowed, '{}' is interpreted as an empty dictionary\n",
    "  LoG:\n",
    "   sigma: [1.0, 3.0, 5.0]\n",
    "  Wavelet: {}\n",
    "\n",
    "featureClass:\n",
    "  firstorder:\n",
    "  glcm:\n",
    "  gldm:\n",
    "  glrlm: \n",
    "  glszm:\n",
    "  shape:"
   ]
  },
  {
   "cell_type": "code",
   "execution_count": null,
   "metadata": {},
   "outputs": [],
   "source": [
    "params = root_dir.joinpath(\"src\", \"Params.yaml\")"
   ]
  },
  {
   "cell_type": "code",
   "execution_count": null,
   "metadata": {},
   "outputs": [],
   "source": [
    "def run(case, how=\"3d\"):\n",
    "    if params.exists():\n",
    "        extractor = featureextractor.RadiomicsFeatureExtractor(str(params))\n",
    "    else:  # Parameter file not found, use hardcoded settings instead\n",
    "        settings = {}\n",
    "        settings[\"binWidth\"] = 25\n",
    "        settings[\"resampledPixelSpacing\"] = None\n",
    "        settings[\"interpolator\"] = sitk.sitkBSpline\n",
    "        settings[\"enableCExtensions\"] = True\n",
    "        extractor = featureextractor.RadiomicsFeatureExtractor(**settings)\n",
    "\n",
    "    logging.info(\n",
    "        \"Processing Patient %s (Image: %s, Mask: %s)\",\n",
    "        case[\"ID\"],\n",
    "        case[\"Image\"],\n",
    "        case[\"Mask\"],\n",
    "    )\n",
    "\n",
    "    image_path = case[\"Image\"]\n",
    "    mask_path = case[\"Mask\"]\n",
    "    image = sitk.ReadImage(image_path)\n",
    "    mask = sitk.ReadImage(mask_path)\n",
    "    labels = np.unique(sitk.GetArrayFromImage(mask).ravel())\n",
    "    valid_labels = []\n",
    "    for label in labels:\n",
    "        result = checkMaskVol(image, mask, label)\n",
    "        if result:\n",
    "            valid_labels.append(result)\n",
    "\n",
    "    if how == \"center slice\":\n",
    "        center_slice = image.GetSize()[2] // 2\n",
    "        image = image[:, :, center_slice]\n",
    "        mask = mask[:, :, center_slice]\n",
    "\n",
    "    patient = []\n",
    "    for index, label in enumerate(valid_labels[:5], start=1):\n",
    "        label = int(label)\n",
    "        logging.info(\n",
    "            \"Processing Patient %s (Image: %s, Mask: %s, Label: %s)\",\n",
    "            case[\"ID\"],\n",
    "            case[\"Image\"],\n",
    "            case[\"Mask\"],\n",
    "            label,\n",
    "        )\n",
    "        if (image_path is not None) and (mask_path is not None):\n",
    "            try:\n",
    "                result = pd.Series(extractor.execute(image, mask, label))\n",
    "            except Exception:\n",
    "                logging.error(\"FEATURE EXTRACTION FAILED:\", exc_info=True)\n",
    "                result = pd.Series()\n",
    "        else:\n",
    "            logging.error(\"FEATURE EXTRACTION FAILED: Missing Image and/or Mask\")\n",
    "            result = pd.Series()\n",
    "\n",
    "        result.name = case[\"ID\"]\n",
    "        result = result.add_prefix(\"label{}_\".format(index))\n",
    "        patient.append(result)\n",
    "    return patient"
   ]
  },
  {
   "cell_type": "code",
   "execution_count": null,
   "metadata": {},
   "outputs": [],
   "source": [
    "run(filtered_midas_img_relation.iloc[index], how=\"center slice\")"
   ]
  },
  {
   "cell_type": "markdown",
   "metadata": {},
   "source": [
    "## Mask perturbation"
   ]
  },
  {
   "cell_type": "code",
   "execution_count": null,
   "metadata": {},
   "outputs": [],
   "source": [
    "image_path = filtered_midas_img_relation.iloc[index][\"Image\"]\n",
    "mask_path = filtered_midas_img_relation.iloc[index][\"Mask\"]"
   ]
  },
  {
   "cell_type": "code",
   "execution_count": null,
   "metadata": {},
   "outputs": [],
   "source": [
    "mask = sitk.ReadImage(mask_path)"
   ]
  },
  {
   "cell_type": "code",
   "execution_count": null,
   "metadata": {},
   "outputs": [],
   "source": [
    "def random_shift(mask, max_shift_x=3, max_shift_y=5):\n",
    "    dx = np.random.randint(-max_shift_x, max_shift_x + 1)\n",
    "    dy = np.random.randint(-max_shift_y, max_shift_y + 1)\n",
    "    print(dx, dy)\n",
    "    translation = sitk.TranslationTransform(3, [dx, dy, 0])\n",
    "    shifted_mask = sitk.Resample(mask, translation)\n",
    "    return shifted_mask"
   ]
  },
  {
   "cell_type": "code",
   "execution_count": null,
   "metadata": {},
   "outputs": [],
   "source": [
    "mask_shift = random_shift(mask)\n",
    "show_image_and_masks(\n",
    "    image_path,\n",
    "    mask_shift,\n",
    ")"
   ]
  },
  {
   "cell_type": "code",
   "execution_count": null,
   "metadata": {},
   "outputs": [],
   "source": [
    "def erosion(mask):\n",
    "    eroded_mask = sitk.Image(mask)\n",
    "    for i in np.unique(sitk.GetArrayFromImage(mask).astype(np.double)):\n",
    "        if i != 0:\n",
    "            eroded_mask = sitk.BinaryErode(eroded_mask, foregroundValue=i)\n",
    "    return eroded_mask"
   ]
  },
  {
   "cell_type": "code",
   "execution_count": null,
   "metadata": {},
   "outputs": [],
   "source": [
    "mask_erosion = erosion(mask)\n",
    "show_image_and_masks(\n",
    "    image_path,\n",
    "    mask_erosion,\n",
    ")"
   ]
  },
  {
   "cell_type": "code",
   "execution_count": null,
   "metadata": {},
   "outputs": [],
   "source": [
    "def dilation(mask):\n",
    "    dilated_mask = sitk.Image(mask)\n",
    "    for i in np.unique(sitk.GetArrayFromImage(mask).astype(np.double)):\n",
    "        if i != 0:\n",
    "            dilated_mask = sitk.BinaryDilate(dilated_mask, foregroundValue=i)\n",
    "    return dilated_mask"
   ]
  },
  {
   "cell_type": "code",
   "execution_count": null,
   "metadata": {},
   "outputs": [],
   "source": [
    "mask_dilation = dilation(mask)\n",
    "show_image_and_masks(\n",
    "    image_path,\n",
    "    mask_dilation,\n",
    ")"
   ]
  },
  {
   "cell_type": "code",
   "execution_count": null,
   "metadata": {},
   "outputs": [],
   "source": []
  },
  {
   "cell_type": "code",
   "execution_count": null,
   "metadata": {},
   "outputs": [],
   "source": []
  }
 ],
 "metadata": {
  "kernelspec": {
   "display_name": "radiomics",
   "language": "python",
   "name": "python3"
  },
  "language_info": {
   "codemirror_mode": {
    "name": "ipython",
    "version": 3
   },
   "file_extension": ".py",
   "mimetype": "text/x-python",
   "name": "python",
   "nbconvert_exporter": "python",
   "pygments_lexer": "ipython3",
   "version": "3.8.5"
  }
 },
 "nbformat": 4,
 "nbformat_minor": 2
}
