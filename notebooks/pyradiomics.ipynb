{
 "cells": [
  {
   "cell_type": "code",
   "execution_count": null,
   "metadata": {},
   "outputs": [],
   "source": [
    "import pathlib\n",
    "import sys\n",
    "\n",
    "root_dir = pathlib.Path(\"..\").resolve()\n",
    "\n",
    "sys.path.append(str(root_dir))"
   ]
  },
  {
   "cell_type": "code",
   "execution_count": null,
   "metadata": {},
   "outputs": [],
   "source": [
    "import json\n",
    "import logging\n",
    "\n",
    "import matplotlib.patches as mpatches\n",
    "import matplotlib.pyplot as plt\n",
    "import numpy as np\n",
    "import pandas as pd\n",
    "import SimpleITK as sitk\n",
    "from radiomics import featureextractor, imageoperations"
   ]
  },
  {
   "cell_type": "code",
   "execution_count": null,
   "metadata": {},
   "outputs": [],
   "source": [
    "def show_image_and_masks(img_path, mask_path):\n",
    "    if isinstance(img_path, pathlib.Path) or isinstance(img_path, str):\n",
    "        image = sitk.ReadImage(img_path)\n",
    "    else:\n",
    "        image = img_path\n",
    "    if isinstance(mask_path, pathlib.Path) or isinstance(mask_path, str):\n",
    "        mask = sitk.ReadImage(mask_path)\n",
    "    else:\n",
    "        mask = mask_path\n",
    "    image_data = sitk.GetArrayFromImage(image).T\n",
    "    mask_data = sitk.GetArrayFromImage(mask).T\n",
    "\n",
    "    center_slice = image_data.shape[2] // 2\n",
    "    unique_labels = np.unique(mask_data.ravel())\n",
    "\n",
    "    _, axs = plt.subplots(1, 3, figsize=(12, 12))\n",
    "    for i, slice in enumerate(range(center_slice - 1, center_slice + 2)):\n",
    "        axs[i].imshow(image_data[:, :, slice], cmap=\"gray\")\n",
    "        im = axs[i].imshow(\n",
    "            mask_data[:, :, slice],\n",
    "            cmap=\"jet\",\n",
    "            alpha=np.where(mask_data[:, :, slice] == 0, 0, 0.3),\n",
    "        )\n",
    "        axs[i].grid(False)\n",
    "        axs[i].axis(\"off\")\n",
    "    colors = [im.cmap(im.norm(value)) for value in unique_labels]\n",
    "    patches = [\n",
    "        mpatches.Patch(color=colors[i], label=f\"{unique_labels[i]}\")\n",
    "        for i in range(len(unique_labels))\n",
    "    ]\n",
    "    plt.legend(handles=patches, bbox_to_anchor=(1.05, 1), loc=2, borderaxespad=0.0)\n",
    "    plt.tight_layout()\n",
    "    plt.show()\n",
    "\n",
    "\n",
    "def checkMaskVol(image, mask, label):\n",
    "    try:\n",
    "        imageoperations.checkMask(\n",
    "            image, mask, minimumROIDimensions=3, minimumROISize=1000, label=label\n",
    "        )\n",
    "        result = label\n",
    "    except Exception as e:\n",
    "        result = None\n",
    "    return result"
   ]
  },
  {
   "cell_type": "markdown",
   "metadata": {},
   "source": [
    "# PyRadiomics"
   ]
  },
  {
   "cell_type": "code",
   "execution_count": null,
   "metadata": {},
   "outputs": [],
   "source": [
    "filtered_midas_img_relation = pd.read_csv(\n",
    "    root_dir.joinpath(\"data\", \"filtered_midas900_t2w.csv\"), sep=\",\"\n",
    ")\n",
    "filtered_midas_img_relation[\"Subject_MIDS\"] = filtered_midas_img_relation[\"Image\"].map(\n",
    "    lambda x: x.split(\"/\")[8]\n",
    ")\n",
    "filtered_midas_img_relation[\"Session_MIDS\"] = filtered_midas_img_relation[\"Image\"].map(\n",
    "    lambda x: x.split(\"/\")[9]\n",
    ")\n",
    "filtered_midas_img_relation[\"Subject_XNAT\"] = filtered_midas_img_relation[\n",
    "    \"Subject_MIDS\"\n",
    "].map(lambda x: f\"ceibcs_S{int(x.split('sub-S')[1])}\")\n",
    "filtered_midas_img_relation[\"Session_XNAT\"] = filtered_midas_img_relation[\n",
    "    \"Session_MIDS\"\n",
    "].map(lambda x: f\"ceibcs_E{int(x.split('ses-E')[1])}\")\n",
    "filtered_midas_img_relation"
   ]
  },
  {
   "cell_type": "code",
   "execution_count": null,
   "metadata": {},
   "outputs": [],
   "source": [
    "index = 1\n",
    "show_image_and_masks(\n",
    "    filtered_midas_img_relation.iloc[index][\"Image\"],\n",
    "    filtered_midas_img_relation.iloc[index][\"Mask\"],\n",
    ")"
   ]
  },
  {
   "cell_type": "code",
   "execution_count": null,
   "metadata": {},
   "outputs": [],
   "source": [
    "%%writefile ../src/radiomics/Params.yaml\n",
    "setting:\n",
    "  binWidth: 25\n",
    "  correctMask: True\n",
    "  interpolator: 'sitkBSpline' # This is an enumerated value, here None is not allowed\n",
    "  normalize: True\n",
    "  resampledPixelSpacing: # This disables resampling, as it is interpreted as None, to enable it, specify spacing in x, y, z as [x, y , z]\n",
    "  weightingNorm: # If no value is specified, it is interpreted as None\n",
    "\n",
    "# Image types to use: \"Original\" for unfiltered image, for possible filters, see documentation.\n",
    "imageType:\n",
    "  Original: {} # for dictionaries / mappings, None values are not allowed, '{}' is interpreted as an empty dictionary\n",
    "  LoG:\n",
    "   sigma: [1.0, 3.0, 5.0]\n",
    "  Wavelet: {}\n",
    "\n",
    "featureClass:\n",
    "  firstorder:\n",
    "  glcm:\n",
    "  gldm:\n",
    "  glrlm: \n",
    "  glszm:\n",
    "  shape:"
   ]
  },
  {
   "cell_type": "code",
   "execution_count": null,
   "metadata": {},
   "outputs": [],
   "source": [
    "params = root_dir.joinpath(\"src\", \"radiomics\", \"Params.yaml\")"
   ]
  },
  {
   "cell_type": "code",
   "execution_count": null,
   "metadata": {},
   "outputs": [],
   "source": [
    "# Perturbation\n",
    "SHIFT_MASK = False\n",
    "EROSION = False\n",
    "DILATION = False\n",
    "# Source Image\n",
    "CENTER_SLICE = False\n",
    "\n",
    "def run(row):\n",
    "    _, case = row\n",
    "\n",
    "    if isinstance(params, dict):\n",
    "        extractor = featureextractor.RadiomicsFeatureExtractor(**params)\n",
    "    elif params.exists():\n",
    "        extractor = featureextractor.RadiomicsFeatureExtractor(str(params))\n",
    "    else:  # Parameter file not found, use hardcoded settings instead\n",
    "        settings = {}\n",
    "        settings[\"binWidth\"] = 25\n",
    "        settings[\"resampledPixelSpacing\"] = None\n",
    "        settings[\"interpolator\"] = sitk.sitkBSpline\n",
    "        settings[\"enableCExtensions\"] = True\n",
    "        extractor = featureextractor.RadiomicsFeatureExtractor(**settings)\n",
    "\n",
    "    logging.info(\n",
    "        \"Processing Patient %s (Image: %s, Mask: %s)\",\n",
    "        case[\"ID\"],\n",
    "        case[\"Image\"],\n",
    "        case[\"Mask\"],\n",
    "    )\n",
    "\n",
    "    image_path = case[\"Image\"]\n",
    "    mask_path = case[\"Mask\"]\n",
    "    image = sitk.ReadImage(image_path)\n",
    "    mask = sitk.ReadImage(mask_path)\n",
    "    labels = np.unique(sitk.GetArrayFromImage(mask).ravel())\n",
    "    valid_labels = []\n",
    "    for label in labels:\n",
    "        result = checkMaskVol(image, mask, label)\n",
    "        if result:\n",
    "            valid_labels.append(result)\n",
    "\n",
    "    if CENTER_SLICE:\n",
    "        center_slice = image.GetSize()[2] // 2\n",
    "        image = image[:, :, center_slice]\n",
    "        mask = mask[:, :, center_slice]\n",
    "\n",
    "    if SHIFT_MASK:\n",
    "        max_shift_x = 3\n",
    "        max_shift_y = 5\n",
    "        dx = np.random.randint(-max_shift_x, max_shift_x + 1)\n",
    "        dy = np.random.randint(-max_shift_y, max_shift_y + 1)\n",
    "        translation = sitk.TranslationTransform(3, [dx, dy, 0])\n",
    "        mask = sitk.Resample(mask, translation)\n",
    "\n",
    "    if EROSION:\n",
    "        for i in np.array(valid_labels[:5]).astype(np.double):\n",
    "            mask = sitk.BinaryErode(mask, foregroundValue=i)\n",
    "\n",
    "    if DILATION:\n",
    "        for i in np.array(valid_labels[:5]).astype(np.double):\n",
    "            mask = sitk.BinaryDilate(mask, foregroundValue=i)\n",
    "\n",
    "    patient = []\n",
    "    for index, label in enumerate(valid_labels[:5], start=1):\n",
    "        label = int(label)\n",
    "        logging.info(\n",
    "            \"Processing Patient %s (Image: %s, Mask: %s, Label: %s)\",\n",
    "            case[\"ID\"],\n",
    "            case[\"Image\"],\n",
    "            case[\"Mask\"],\n",
    "            label,\n",
    "        )\n",
    "        if (image_path is not None) and (mask_path is not None):\n",
    "            try:\n",
    "                result = pd.Series(extractor.execute(image, mask, label))\n",
    "            except Exception:\n",
    "                logging.error(\"FEATURE EXTRACTION FAILED:\", exc_info=True)\n",
    "                result = pd.Series()\n",
    "        else:\n",
    "            logging.error(\"FEATURE EXTRACTION FAILED: Missing Image and/or Mask\")\n",
    "            result = pd.Series()\n",
    "\n",
    "        result.name = case[\"ID\"]\n",
    "        result = result.add_prefix(\"label{}_\".format(index))\n",
    "        patient.append(result)\n",
    "    if len(patient) == 0:\n",
    "        logging.error(f\"FEATURE EXTRACTION FAILED: {case['ID']}\")\n",
    "        patient = pd.Series()\n",
    "        patient.name = case[\"ID\"]\n",
    "    elif len(patient) == 1:\n",
    "        patient = patient[0]\n",
    "    else:\n",
    "        patient = pd.concat(patient, axis=0)\n",
    "\n",
    "    return patient"
   ]
  },
  {
   "cell_type": "code",
   "execution_count": null,
   "metadata": {},
   "outputs": [],
   "source": [
    "run(filtered_midas_img_relation.iloc[index])"
   ]
  },
  {
   "cell_type": "markdown",
   "metadata": {},
   "source": [
    "# Mask perturbation"
   ]
  },
  {
   "cell_type": "code",
   "execution_count": null,
   "metadata": {},
   "outputs": [],
   "source": [
    "image_path = filtered_midas_img_relation.iloc[index][\"Image\"]\n",
    "mask_path = filtered_midas_img_relation.iloc[index][\"Mask\"]"
   ]
  },
  {
   "cell_type": "code",
   "execution_count": null,
   "metadata": {},
   "outputs": [],
   "source": [
    "mask = sitk.ReadImage(mask_path)"
   ]
  },
  {
   "cell_type": "code",
   "execution_count": null,
   "metadata": {},
   "outputs": [],
   "source": [
    "def random_shift(mask, max_shift_x=3, max_shift_y=5):\n",
    "    dx = np.random.randint(-max_shift_x, max_shift_x + 1)\n",
    "    dy = np.random.randint(-max_shift_y, max_shift_y + 1)\n",
    "    print(dx, dy)\n",
    "    translation = sitk.TranslationTransform(3, [dx, dy, 0])\n",
    "    shifted_mask = sitk.Resample(mask, translation)\n",
    "    return shifted_mask"
   ]
  },
  {
   "cell_type": "code",
   "execution_count": null,
   "metadata": {},
   "outputs": [],
   "source": [
    "mask_shift = random_shift(mask)\n",
    "show_image_and_masks(\n",
    "    image_path,\n",
    "    mask_shift,\n",
    ")"
   ]
  },
  {
   "cell_type": "code",
   "execution_count": null,
   "metadata": {},
   "outputs": [],
   "source": [
    "def erosion(mask):\n",
    "    eroded_mask = sitk.Image(mask)\n",
    "    for i in np.unique(sitk.GetArrayFromImage(mask).astype(np.double)):\n",
    "        if i != 0:\n",
    "            eroded_mask = sitk.BinaryErode(eroded_mask, foregroundValue=i)\n",
    "    return eroded_mask"
   ]
  },
  {
   "cell_type": "code",
   "execution_count": null,
   "metadata": {},
   "outputs": [],
   "source": [
    "mask_erosion = erosion(mask)\n",
    "show_image_and_masks(\n",
    "    image_path,\n",
    "    mask_erosion,\n",
    ")"
   ]
  },
  {
   "cell_type": "code",
   "execution_count": null,
   "metadata": {},
   "outputs": [],
   "source": [
    "def dilation(mask):\n",
    "    dilated_mask = sitk.Image(mask)\n",
    "    for i in np.unique(sitk.GetArrayFromImage(mask).astype(np.double)):\n",
    "        if i != 0:\n",
    "            dilated_mask = sitk.BinaryDilate(dilated_mask, foregroundValue=i)\n",
    "    return dilated_mask"
   ]
  },
  {
   "cell_type": "code",
   "execution_count": null,
   "metadata": {},
   "outputs": [],
   "source": [
    "mask_dilation = dilation(mask)\n",
    "show_image_and_masks(\n",
    "    image_path,\n",
    "    mask_dilation,\n",
    ")"
   ]
  },
  {
   "cell_type": "markdown",
   "metadata": {},
   "source": [
    "# Feature analysis"
   ]
  },
  {
   "cell_type": "code",
   "execution_count": null,
   "metadata": {},
   "outputs": [],
   "source": [
    "from sklearn.pipeline import Pipeline\n",
    "\n",
    "from src.ml.utils import get_labels_and_features, get_labels_and_features_all_discs\n",
    "from src.ml.transforms import VarianceFeatureReduction, CorrelationFeatureReduction"
   ]
  },
  {
   "cell_type": "code",
   "execution_count": null,
   "metadata": {},
   "outputs": [],
   "source": [
    "img_relation_path = root_dir.joinpath(\"data\", \"filtered_midas900_t2w.csv\")\n",
    "labels_path = root_dir.joinpath(\"data\", \"labels\", \"midasdisclabelsJDCarlos.csv\")\n",
    "features_path = root_dir.joinpath(\"data\", \"features\", \"t2w_reduced_params.csv\")\n",
    "\n",
    "img_relation = pd.read_csv(img_relation_path)"
   ]
  },
  {
   "cell_type": "code",
   "execution_count": null,
   "metadata": {},
   "outputs": [],
   "source": [
    "def show_disc(index, disc):\n",
    "    if isinstance(index, str):\n",
    "        index = img_relation.loc[img_relation[\"ID\"] == index].index[0]\n",
    "    image = sitk.ReadImage(img_relation.loc[index][\"Image\"])\n",
    "    mask = sitk.ReadImage(img_relation.loc[index][\"Mask\"])\n",
    "\n",
    "    disc_segmentations = np.unique(sitk.GetArrayFromImage(mask).ravel())\n",
    "    valid_disc_segmentations = []\n",
    "    for disc_segmentation in disc_segmentations:\n",
    "        if result := checkMaskVol(image, mask, disc_segmentation):\n",
    "            valid_disc_segmentations.append(int(result))\n",
    "        if len(valid_disc_segmentations) == 5:\n",
    "            break\n",
    "\n",
    "    orient = sitk.DICOMOrientImageFilter()\n",
    "    orient.SetDesiredCoordinateOrientation(\"LPI\") # Left Posterior Inferior\n",
    "    image = orient.Execute(image)\n",
    "    mask = orient.Execute(mask)\n",
    "\n",
    "    image = imageoperations.normalizeImage(image, scale=100)\n",
    "\n",
    "    center_slice = image.GetSize()[0] // 2\n",
    "    image = image[center_slice, ...]\n",
    "    mask = mask[center_slice, ...]\n",
    "\n",
    "    maskfilter = sitk.MaskImageFilter()\n",
    "    maskfilter.SetMaskingValue(0.0)\n",
    "    maskfilter.SetOutsideValue(np.nan)\n",
    "    masked_image = maskfilter.Execute(image, mask)\n",
    "\n",
    "    labelimfilter=sitk.LabelShapeStatisticsImageFilter()\n",
    "    labelimfilter.Execute(mask)\n",
    "    box=labelimfilter.GetBoundingBox(valid_disc_segmentations[disc-1])\n",
    "\n",
    "    roifilter = sitk.RegionOfInterestImageFilter()\n",
    "    roifilter.SetRegionOfInterest(box)\n",
    "    cropped_image = roifilter.Execute(masked_image)\n",
    "    plt.figure(figsize=(5,5))\n",
    "    plt.imshow(sitk.GetArrayFromImage(cropped_image), cmap=\"gray\")\n",
    "    plt.axis(\"off\")\n",
    "    plt.show()"
   ]
  },
  {
   "cell_type": "code",
   "execution_count": null,
   "metadata": {},
   "outputs": [],
   "source": [
    "# Perform cross-validation\n",
    "pipeline = Pipeline(\n",
    "    [\n",
    "        (\"variancethreshold\", VarianceFeatureReduction(threshold=0.05)),\n",
    "        (\"correlationreduction\", CorrelationFeatureReduction()),\n",
    "    ]\n",
    ")\n",
    "\n",
    "def sample_cases(disc, pfirrmann=[]):\n",
    "    labels, features = get_labels_and_features(img_relation_path, labels_path, features_path, disc)\n",
    "    if pfirrmann:\n",
    "        labels = labels[labels.isin(pfirrmann)]\n",
    "        features = features.loc[labels.index]\n",
    "    # features = features.loc[:,features.columns.str.contains(\"glcm\")]\n",
    "    features = pipeline.fit_transform(features)\n",
    "    features.rename(columns={col: \"_\".join(col.split(\"_\")[-2:]) for col in list(features.columns)}, inplace=True)\n",
    "\n",
    "    display(features.describe())\n",
    "    pd.plotting.scatter_matrix(features, figsize=(15,15), alpha=0.8, c=labels)\n",
    "    plt.show()\n",
    "    sample_images_idx = [idx for idx in labels.sample(10).index]\n",
    "    for idx in sample_images_idx:\n",
    "        print(f\"Pfirrmann Grade: {labels.loc[idx]}\")\n",
    "        try:\n",
    "            show_disc(idx[:-1], disc)\n",
    "        except Exception as e:\n",
    "            print(e)\n"
   ]
  },
  {
   "cell_type": "code",
   "execution_count": null,
   "metadata": {},
   "outputs": [],
   "source": [
    "sample_cases(disc=5, pfirrmann=[4,3])"
   ]
  },
  {
   "cell_type": "code",
   "execution_count": null,
   "metadata": {},
   "outputs": [],
   "source": []
  }
 ],
 "metadata": {
  "kernelspec": {
   "display_name": "radiomics",
   "language": "python",
   "name": "python3"
  },
  "language_info": {
   "codemirror_mode": {
    "name": "ipython",
    "version": 3
   },
   "file_extension": ".py",
   "mimetype": "text/x-python",
   "name": "python",
   "nbconvert_exporter": "python",
   "pygments_lexer": "ipython3",
   "version": "3.8.5"
  }
 },
 "nbformat": 4,
 "nbformat_minor": 2
}
