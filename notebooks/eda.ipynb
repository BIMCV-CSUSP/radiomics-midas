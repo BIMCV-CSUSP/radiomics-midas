{
 "cells": [
  {
   "cell_type": "code",
   "execution_count": null,
   "metadata": {},
   "outputs": [],
   "source": [
    "from pathlib import Path\n",
    "\n",
    "import matplotlib.pyplot as plt\n",
    "import numpy as np\n",
    "import pandas as pd\n",
    "import SimpleITK as sitk\n",
    "from monai import transforms\n",
    "\n",
    "from utils import CheckMaskVol"
   ]
  },
  {
   "cell_type": "code",
   "execution_count": null,
   "metadata": {},
   "outputs": [],
   "source": [
    "root_dir = Path(\"..\").resolve()"
   ]
  },
  {
   "cell_type": "code",
   "execution_count": null,
   "metadata": {},
   "outputs": [],
   "source": [
    "img_relation = pd.read_csv(root_dir.joinpath(\"data\", \"filtered_midas900_t2w.csv\"))"
   ]
  },
  {
   "cell_type": "code",
   "execution_count": null,
   "metadata": {},
   "outputs": [],
   "source": [
    "spacings = []\n",
    "for image_path in img_relation[\"Image\"]:\n",
    "    image = sitk.ReadImage(image_path)\n",
    "    spacings.append(image.GetSpacing())\n",
    "spacings = np.vstack(spacings)\n",
    "print(f\"Median spacing: {np.median(spacings, axis=0)}\")\n",
    "print(f\"Mean spacing: {np.mean(spacings, axis=0)}\")\n",
    "print(f\"Std spacing: {np.std(spacings, axis=0)}\")"
   ]
  },
  {
   "cell_type": "code",
   "execution_count": null,
   "metadata": {},
   "outputs": [],
   "source": [
    "class CropForegroundd(transforms.MapTransform):\n",
    "    def __init__(\n",
    "        self, keys=[\"image\"], source_key=\"mask\", margin=0, k_divisible=(64, 64, 1)\n",
    "    ):\n",
    "        super().__init__(keys)\n",
    "        self.k_divisible = k_divisible\n",
    "        self.margin = margin\n",
    "        self.source_key = source_key\n",
    "\n",
    "    def __call__(self, x):\n",
    "        key = self.keys[0]\n",
    "        bool_mask = np.where(\n",
    "            x[self.source_key] == x[\"valid_labels\"][0], x[self.source_key], 0\n",
    "        )\n",
    "        for label in x[\"valid_labels\"][1:]:\n",
    "            bool_mask += np.where(x[self.source_key] == label, x[self.source_key], 0)\n",
    "        input_data = {\"image\": np.where(bool_mask, x[key], np.nan), \"mask\": x[self.source_key]}\n",
    "        discs = []\n",
    "        labels = []\n",
    "        for label, disc in enumerate(x[\"valid_labels\"], start=1):\n",
    "            select_fn = lambda x: x == disc\n",
    "            crop = transforms.CropForegroundd(\n",
    "                keys=self.keys,\n",
    "                source_key=self.source_key,\n",
    "                select_fn=select_fn,\n",
    "                margin=self.margin,\n",
    "                k_divisible=self.k_divisible,\n",
    "            )(input_data)\n",
    "            # crop2 = transforms.CenterSpatialCropd(keys=[\"image\"], roi_size=(-1, -1, 1))(\n",
    "            #     crop\n",
    "            # )\n",
    "            discs.append(crop[\"image\"])\n",
    "            labels.append(x[str(label)])\n",
    "        return [{\"image\": disc, \"label\": label} for disc, label in zip(discs, labels)]\n",
    "\n",
    "transforms_ = transforms.Compose(\n",
    "    [\n",
    "        CheckMaskVol(\n",
    "            keys=[\"image\", \"mask\"], minimum_roi_dimensions=3, minimum_roi_size=1000\n",
    "        ),\n",
    "        transforms.LoadImaged(\n",
    "            keys=[\"image\", \"mask\"], image_only=True, ensure_channel_first=True\n",
    "        ),\n",
    "        # transforms.HistogramNormalized(keys=[\"image\"]),\n",
    "        # transforms.ScaleIntensityd(keys=[\"image\"]),\n",
    "        CropForegroundd(\n",
    "            keys=[\"image\"], source_key=\"mask\", margin=0, k_divisible=(1, 1, 1)\n",
    "        ),\n",
    "        transforms.CenterSpatialCropd(keys=[\"image\"], roi_size=(64, 64, -1)),\n",
    "        transforms.Transposed(keys=[\"image\"], indices=(0, 3, 1, 2)),\n",
    "        transforms.SqueezeDimd(keys=[\"image\"], dim=0),\n",
    "        transforms.ToTensord(keys=[\"image\"]),\n",
    "    ]\n",
    ")"
   ]
  },
  {
   "cell_type": "code",
   "execution_count": null,
   "metadata": {},
   "outputs": [],
   "source": [
    "index = 5\n",
    "sample = transforms_(\n",
    "    {\n",
    "        \"image\": img_relation.iloc[index][\"Image\"],\n",
    "        \"mask\": img_relation.iloc[index][\"Mask\"],\n",
    "        \"1\": 1,\n",
    "        \"2\": 1,\n",
    "        \"3\": 1,\n",
    "        \"4\": 1,\n",
    "        \"5\": 1,\n",
    "    }\n",
    ")"
   ]
  },
  {
   "cell_type": "code",
   "execution_count": null,
   "metadata": {},
   "outputs": [],
   "source": [
    "for i in range(9):\n",
    "    plt.imshow(np.where(sample[1][\"image\"] != 0, sample[1][\"image\"], np.nan)[i, :, :], cmap=\"gray\")\n",
    "    plt.show()"
   ]
  },
  {
   "cell_type": "code",
   "execution_count": null,
   "metadata": {},
   "outputs": [],
   "source": [
    "for i in range(5):\n",
    "    plt.plot(*np.unique(sample[i][\"image\"], return_counts=True))\n",
    "    plt.hist(sample[i][\"image\"][~np.isnan(sample[i][\"image\"])].ravel(), bins=100)\n",
    "    plt.show()"
   ]
  },
  {
   "cell_type": "code",
   "execution_count": null,
   "metadata": {},
   "outputs": [],
   "source": []
  }
 ],
 "metadata": {
  "kernelspec": {
   "display_name": "radiomics",
   "language": "python",
   "name": "python3"
  },
  "language_info": {
   "codemirror_mode": {
    "name": "ipython",
    "version": 3
   },
   "file_extension": ".py",
   "mimetype": "text/x-python",
   "name": "python",
   "nbconvert_exporter": "python",
   "pygments_lexer": "ipython3",
   "version": "3.8.5"
  }
 },
 "nbformat": 4,
 "nbformat_minor": 2
}
